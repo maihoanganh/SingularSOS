{
 "cells": [
  {
   "cell_type": "code",
   "execution_count": 214,
   "id": "9fa8ba76",
   "metadata": {},
   "outputs": [],
   "source": [
    "# Notebook to illustrate Example 4 \n",
    "# from the paper ``Sums of squares representations on singular loci'' \n",
    "# by Ngoc Hoang Anh Mai, Victor Magron, and Bernard Mourrain"
   ]
  },
  {
   "cell_type": "code",
   "execution_count": 215,
   "id": "e31b884f",
   "metadata": {},
   "outputs": [
    {
     "data": {
      "text/plain": [
       "JacobianMatrix (generic function with 1 method)"
      ]
     },
     "execution_count": 215,
     "metadata": {},
     "output_type": "execute_result"
    }
   ],
   "source": [
    "function JacobianMatrix(h,n)\n",
    "    l=length(h)\n",
    "    J=Matrix{fmpq_mpoly}(undef,n,l)\n",
    "    for j=1:l\n",
    "        for i in 1:n\n",
    "            J[i,j]=derivative(h[j],i)\n",
    "        end\n",
    "    end\n",
    "    return J\n",
    "end"
   ]
  },
  {
   "cell_type": "code",
   "execution_count": 216,
   "id": "3ae4e14a",
   "metadata": {},
   "outputs": [
    {
     "data": {
      "text/plain": [
       "determinant (generic function with 1 method)"
      ]
     },
     "execution_count": 216,
     "metadata": {},
     "output_type": "execute_result"
    }
   ],
   "source": [
    "function determinant(A) \n",
    "    nrow,ncol=size(A); \n",
    "    x=0\n",
    "    if size(A)==(1,1) \n",
    "        x=A[1,1]\n",
    "    elseif size(A)==(2,2)\n",
    "        x=A[1,1]*A[2,2]-A[1,2]*A[2,1]\n",
    "    else \n",
    "        x=0\n",
    "        for i=1:ncol \n",
    "            x=x+((-1)^(1+i)*A[1,i]*determinant(A[2:nrow,setdiff(1:ncol,i)]))\n",
    "        end \n",
    "    end  \n",
    "\n",
    "    return x\n",
    "end"
   ]
  },
  {
   "cell_type": "code",
   "execution_count": 217,
   "id": "dd718fd0",
   "metadata": {},
   "outputs": [
    {
     "data": {
      "text/plain": [
       "SingularLocus (generic function with 1 method)"
      ]
     },
     "execution_count": 217,
     "metadata": {},
     "output_type": "execute_result"
    }
   ],
   "source": [
    "using Combinatorics\n",
    "\n",
    "function SingularLocus(h,n,R)\n",
    "    r=n-dim(ideal(R, h))\n",
    "    l=length(h)\n",
    "    T1=collect(combinations(1:n,r))\n",
    "    T2=collect(combinations(1:l,r))\n",
    "    lT1=length(T1)\n",
    "    lT2=length(T2)\n",
    "    J=JacobianMatrix(h,n)\n",
    "    q=Vector{fmpq_mpoly}(undef,l+lT1*lT2)\n",
    "    q[1:l]=h\n",
    "    t=1\n",
    "    for j=1:lT1\n",
    "        for i=1:lT2\n",
    "            q[l+t]=determinant(J[T1[j],T2[i]])\n",
    "            t+=1\n",
    "        end\n",
    "    end\n",
    "    return q\n",
    "end"
   ]
  },
  {
   "cell_type": "code",
   "execution_count": 218,
   "id": "fad30afe",
   "metadata": {},
   "outputs": [
    {
     "data": {
      "text/plain": [
       "3-element Vector{fmpq_mpoly}:\n",
       " x_{1}^5 - x_{3}^2\n",
       " x_{2}^5 - x_{4}^2\n",
       " -x_{1}*x_{2} - x_{5}^2"
      ]
     },
     "execution_count": 218,
     "metadata": {},
     "output_type": "execute_result"
    }
   ],
   "source": [
    "using Oscar\n",
    "\n",
    "n=5\n",
    "\n",
    "R, x = PolynomialRing(QQ, \"x\" => (1:n))\n",
    "\n",
    "h0=x[1]+x[2]\n",
    "h=[x[1]^5-x[3]^2;x[2]^5-x[4]^2;-x[1]*x[2]-x[5]^2]# vertor of polynomials defining variety V(h)"
   ]
  },
  {
   "cell_type": "code",
   "execution_count": 219,
   "id": "f00c5426",
   "metadata": {},
   "outputs": [
    {
     "data": {
      "text/plain": [
       "1-element Vector{Tuple{MPolyIdeal{fmpq_mpoly}, MPolyIdeal{fmpq_mpoly}}}:\n",
       " (ideal(x_{3}^2*x_{4}^2 + x_{5}^10, x_{2}^5 - x_{4}^2, x_{1}*x_{5}^8 - x_{2}^4*x_{3}^2, x_{1}*x_{4}^2 + x_{2}^4*x_{5}^2, x_{1}*x_{2} + x_{5}^2, x_{1}^2*x_{5}^6 + x_{2}^3*x_{3}^2, x_{1}^3*x_{5}^4 - x_{2}^2*x_{3}^2, x_{1}^4*x_{5}^2 + x_{2}*x_{3}^2, x_{1}^5 - x_{3}^2), ideal(x_{3}^2*x_{4}^2 + x_{5}^10, x_{2}^5 - x_{4}^2, x_{1}*x_{5}^8 - x_{2}^4*x_{3}^2, x_{1}*x_{4}^2 + x_{2}^4*x_{5}^2, x_{1}*x_{2} + x_{5}^2, x_{1}^2*x_{5}^6 + x_{2}^3*x_{3}^2, x_{1}^3*x_{5}^4 - x_{2}^2*x_{3}^2, x_{1}^4*x_{5}^2 + x_{2}*x_{3}^2, x_{1}^5 - x_{3}^2))"
      ]
     },
     "execution_count": 219,
     "metadata": {},
     "output_type": "execute_result"
    }
   ],
   "source": [
    "V = primary_decomposition(ideal(R, h))# irreducible decomposition"
   ]
  },
  {
   "cell_type": "code",
   "execution_count": 220,
   "id": "486317d5",
   "metadata": {},
   "outputs": [
    {
     "data": {
      "text/plain": [
       "9-element Vector{fmpq_mpoly}:\n",
       " x_{3}^2*x_{4}^2 + x_{5}^10\n",
       " x_{2}^5 - x_{4}^2\n",
       " x_{1}*x_{5}^8 - x_{2}^4*x_{3}^2\n",
       " x_{1}*x_{4}^2 + x_{2}^4*x_{5}^2\n",
       " x_{1}*x_{2} + x_{5}^2\n",
       " x_{1}^2*x_{5}^6 + x_{2}^3*x_{3}^2\n",
       " x_{1}^3*x_{5}^4 - x_{2}^2*x_{3}^2\n",
       " x_{1}^4*x_{5}^2 + x_{2}*x_{3}^2\n",
       " x_{1}^5 - x_{3}^2"
      ]
     },
     "execution_count": 220,
     "metadata": {},
     "output_type": "execute_result"
    }
   ],
   "source": [
    "I=V[1][2]# ideal\n",
    "h1=gens(I)# list of generators of ideal I"
   ]
  },
  {
   "cell_type": "code",
   "execution_count": 221,
   "id": "37d35c80",
   "metadata": {},
   "outputs": [
    {
     "data": {
      "text/plain": [
       "ideal(x_{3}^2*x_{4}^2 + x_{5}^10, x_{2}^5 - x_{4}^2, x_{1}*x_{5}^8 - x_{2}^4*x_{3}^2, x_{1}*x_{4}^2 + x_{2}^4*x_{5}^2, x_{1}*x_{2} + x_{5}^2, x_{1}^2*x_{5}^6 + x_{2}^3*x_{3}^2, x_{1}^3*x_{5}^4 - x_{2}^2*x_{3}^2, x_{1}^4*x_{5}^2 + x_{2}*x_{3}^2, x_{1}^5 - x_{3}^2)"
      ]
     },
     "execution_count": 221,
     "metadata": {},
     "output_type": "execute_result"
    }
   ],
   "source": [
    "I1=ideal(R, h1) # ideal generated by h1"
   ]
  },
  {
   "cell_type": "code",
   "execution_count": 222,
   "id": "03d3b8db",
   "metadata": {},
   "outputs": [
    {
     "data": {
      "text/plain": [
       "2"
      ]
     },
     "execution_count": 222,
     "metadata": {},
     "output_type": "execute_result"
    }
   ],
   "source": [
    "d=dim(I1) # dimension of ideal"
   ]
  },
  {
   "cell_type": "code",
   "execution_count": 223,
   "id": "bec30bf1",
   "metadata": {},
   "outputs": [
    {
     "data": {
      "text/plain": [
       "9"
      ]
     },
     "execution_count": 223,
     "metadata": {},
     "output_type": "execute_result"
    }
   ],
   "source": [
    "l=length(h1) # number of generators"
   ]
  },
  {
   "cell_type": "code",
   "execution_count": 224,
   "id": "3b330ed2",
   "metadata": {},
   "outputs": [
    {
     "data": {
      "text/plain": [
       "5×9 Matrix{fmpq_mpoly}:\n",
       " 0                0          …  4*x_{1}^3*x_{5}^2  5*x_{1}^4\n",
       " 0                5*x_{2}^4     x_{3}^2            0\n",
       " 2*x_{3}*x_{4}^2  0             2*x_{2}*x_{3}      -2*x_{3}\n",
       " 2*x_{3}^2*x_{4}  -2*x_{4}      0                  0\n",
       " 10*x_{5}^9       0             2*x_{1}^4*x_{5}    0"
      ]
     },
     "execution_count": 224,
     "metadata": {},
     "output_type": "execute_result"
    }
   ],
   "source": [
    "J=JacobianMatrix(h1,n)"
   ]
  },
  {
   "cell_type": "code",
   "execution_count": 225,
   "id": "83c6eb8e",
   "metadata": {},
   "outputs": [
    {
     "data": {
      "text/plain": [
       "-10*x_{2}^4*x_{3}^2*x_{4}*x_{5}^8"
      ]
     },
     "execution_count": 225,
     "metadata": {},
     "output_type": "execute_result"
    }
   ],
   "source": [
    "# Example for computing a determinant of a submatrix\n",
    "T1=[1;2;4]\n",
    "T2=[1;2;3]\n",
    "determinant(J[T1,T2])"
   ]
  },
  {
   "cell_type": "code",
   "execution_count": 226,
   "id": "f4be6103",
   "metadata": {},
   "outputs": [
    {
     "data": {
      "text/plain": [
       "849-element Vector{fmpq_mpoly}:\n",
       " x_{3}^2*x_{4}^2 + x_{5}^10\n",
       " x_{2}^5 - x_{4}^2\n",
       " x_{1}*x_{5}^8 - x_{2}^4*x_{3}^2\n",
       " x_{1}*x_{4}^2 + x_{2}^4*x_{5}^2\n",
       " x_{1}*x_{2} + x_{5}^2\n",
       " x_{1}^2*x_{5}^6 + x_{2}^3*x_{3}^2\n",
       " x_{1}^3*x_{5}^4 - x_{2}^2*x_{3}^2\n",
       " x_{1}^4*x_{5}^2 + x_{2}*x_{3}^2\n",
       " x_{1}^5 - x_{3}^2\n",
       " -10*x_{2}^4*x_{3}*x_{4}^2*x_{5}^8\n",
       " -10*x_{2}^4*x_{3}*x_{4}^4\n",
       " -10*x_{2}^5*x_{3}*x_{4}^2\n",
       " -20*x_{1}*x_{2}^4*x_{3}*x_{4}^2*x_{5}^6\n",
       " ⋮\n",
       " -16*x_{1}^4*x_{3}*x_{4}*x_{5}^3\n",
       " -8*x_{1}^5*x_{3}*x_{4}*x_{5}\n",
       " 0\n",
       " 0\n",
       " 0\n",
       " 0\n",
       " 0\n",
       " 0\n",
       " 0\n",
       " 0\n",
       " 0\n",
       " 0"
      ]
     },
     "execution_count": 226,
     "metadata": {},
     "output_type": "execute_result"
    }
   ],
   "source": [
    "h2=SingularLocus(h1,n,R)"
   ]
  },
  {
   "cell_type": "code",
   "execution_count": 227,
   "id": "49fde8b9",
   "metadata": {
    "scrolled": false
   },
   "outputs": [],
   "source": [
    "I2=ideal(R, h2);"
   ]
  },
  {
   "cell_type": "code",
   "execution_count": 228,
   "id": "6c3ccfcc",
   "metadata": {},
   "outputs": [
    {
     "data": {
      "text/plain": [
       "22-element Vector{fmpq_mpoly}:\n",
       " x_{5}^9\n",
       " x_{3}*x_{4}*x_{5}\n",
       " x_{3}*x_{4}^2\n",
       " x_{3}^2*x_{4}\n",
       " x_{2}*x_{3}*x_{5}^7\n",
       " x_{2}*x_{3}*x_{4}\n",
       " x_{2}^2*x_{3}*x_{5}^5\n",
       " x_{2}^3*x_{3}*x_{5}^3\n",
       " x_{2}^4*x_{3}*x_{5}\n",
       " x_{2}^5 - x_{4}^2\n",
       " x_{1}*x_{5}^8 - x_{2}^4*x_{3}^2\n",
       " x_{1}*x_{4}*x_{5}^7\n",
       " x_{1}*x_{4}^2 + x_{2}^4*x_{5}^2\n",
       " x_{1}*x_{3}*x_{4}\n",
       " x_{1}*x_{2} + x_{5}^2\n",
       " x_{1}^2*x_{5}^6 + x_{2}^3*x_{3}^2\n",
       " x_{1}^2*x_{4}*x_{5}^5\n",
       " x_{1}^3*x_{5}^4 - x_{2}^2*x_{3}^2\n",
       " x_{1}^3*x_{4}*x_{5}^3\n",
       " x_{1}^4*x_{5}^2 + x_{2}*x_{3}^2\n",
       " x_{1}^4*x_{4}*x_{5}\n",
       " x_{1}^5 - x_{3}^2"
      ]
     },
     "execution_count": 228,
     "metadata": {},
     "output_type": "execute_result"
    }
   ],
   "source": [
    "g=groebner_basis(I2,ordering=lex(gens(R)))"
   ]
  },
  {
   "cell_type": "code",
   "execution_count": 229,
   "id": "87695bac",
   "metadata": {},
   "outputs": [
    {
     "data": {
      "text/plain": [
       "ideal(x_{5}^9, x_{3}*x_{4}*x_{5}, x_{3}*x_{4}^2, x_{3}^2*x_{4}, x_{2}*x_{3}*x_{5}^7, x_{2}*x_{3}*x_{4}, x_{2}^2*x_{3}*x_{5}^5, x_{2}^3*x_{3}*x_{5}^3, x_{2}^4*x_{3}*x_{5}, x_{2}^5 - x_{4}^2, x_{1}*x_{5}^8 - x_{2}^4*x_{3}^2, x_{1}*x_{4}*x_{5}^7, x_{1}*x_{4}^2 + x_{2}^4*x_{5}^2, x_{1}*x_{3}*x_{4}, x_{1}*x_{2} + x_{5}^2, x_{1}^2*x_{5}^6 + x_{2}^3*x_{3}^2, x_{1}^2*x_{4}*x_{5}^5, x_{1}^3*x_{5}^4 - x_{2}^2*x_{3}^2, x_{1}^3*x_{4}*x_{5}^3, x_{1}^4*x_{5}^2 + x_{2}*x_{3}^2, x_{1}^4*x_{4}*x_{5}, x_{1}^5 - x_{3}^2)"
      ]
     },
     "execution_count": 229,
     "metadata": {},
     "output_type": "execute_result"
    }
   ],
   "source": [
    "I3=ideal(R, g)"
   ]
  },
  {
   "cell_type": "code",
   "execution_count": 230,
   "id": "0554dc1c",
   "metadata": {},
   "outputs": [
    {
     "data": {
      "text/plain": [
       "1"
      ]
     },
     "execution_count": 230,
     "metadata": {},
     "output_type": "execute_result"
    }
   ],
   "source": [
    "dim(I3)"
   ]
  },
  {
   "cell_type": "code",
   "execution_count": 231,
   "id": "b0d1f5f0",
   "metadata": {},
   "outputs": [
    {
     "data": {
      "text/plain": [
       "false"
      ]
     },
     "execution_count": 231,
     "metadata": {},
     "output_type": "execute_result"
    }
   ],
   "source": [
    "is_prime(I3)"
   ]
  },
  {
   "cell_type": "code",
   "execution_count": 232,
   "id": "7296e03e",
   "metadata": {},
   "outputs": [
    {
     "data": {
      "text/plain": [
       "3-element Vector{Tuple{MPolyIdeal{fmpq_mpoly}, MPolyIdeal{fmpq_mpoly}}}:\n",
       " (ideal(x_{5}^9, x_{4}, x_{2}*x_{5}^7, x_{2}^2*x_{5}^5, x_{2}^3*x_{5}^3, x_{2}^4*x_{5}, x_{2}^5, x_{1}*x_{5}^8 - x_{2}^4*x_{3}^2, x_{1}*x_{2} + x_{5}^2, x_{1}^2*x_{5}^6 + x_{2}^3*x_{3}^2, x_{1}^3*x_{5}^4 - x_{2}^2*x_{3}^2, x_{1}^4*x_{5}^2 + x_{2}*x_{3}^2, x_{1}^5 - x_{3}^2), ideal(x_{5}, x_{4}, x_{2}, x_{1}^5 - x_{3}^2))\n",
       " (ideal(x_{5}^9, x_{3}, x_{2}^5 - x_{4}^2, x_{1}*x_{5}^7, x_{1}*x_{4}^2 + x_{2}^4*x_{5}^2, x_{1}*x_{2} + x_{5}^2, x_{1}^2*x_{5}^5, x_{1}^3*x_{5}^3, x_{1}^4*x_{5}, x_{1}^5), ideal(x_{5}, x_{3}, x_{2}^5 - x_{4}^2, x_{1}))\n",
       " (ideal(x_{5}^9, x_{4}^2, x_{3}*x_{4}*x_{5}, x_{3}^2, x_{2}*x_{5}^8, x_{2}*x_{3}*x_{5}^7, x_{2}*x_{3}*x_{4}, x_{2}^2*x_{5}^6, x_{2}^2*x_{3}*x_{5}^5, x_{2}^3*x_{5}^4, x_{2}^3*x_{3}*x_{5}^3, x_{2}^4*x_{5}^2, x_{2}^4*x_{3}*x_{5}, x_{2}^5, x_{1}*x_{5}^8, x_{1}*x_{4}*x_{5}^7, x_{1}*x_{3}*x_{4}, x_{1}*x_{2} + x_{5}^2, x_{1}^2*x_{5}^6, x_{1}^2*x_{4}*x_{5}^5, x_{1}^3*x_{5}^4, x_{1}^3*x_{4}*x_{5}^3, x_{1}^4*x_{5}^2, x_{1}^4*x_{4}*x_{5}, x_{1}^5), ideal(x_{1}, x_{2}, x_{3}, x_{4}, x_{5}))"
      ]
     },
     "execution_count": 232,
     "metadata": {},
     "output_type": "execute_result"
    }
   ],
   "source": [
    "U=primary_decomposition(I3)"
   ]
  },
  {
   "cell_type": "code",
   "execution_count": 233,
   "id": "3c2c0e5e",
   "metadata": {},
   "outputs": [
    {
     "data": {
      "text/plain": [
       "4-element Vector{fmpq_mpoly}:\n",
       " x_{5}\n",
       " x_{4}\n",
       " x_{2}\n",
       " x_{1}^5 - x_{3}^2"
      ]
     },
     "execution_count": 233,
     "metadata": {},
     "output_type": "execute_result"
    }
   ],
   "source": [
    "#1st irreducible component\n",
    "Iq1=U[1][2]\n",
    "q1=gens(Iq1)"
   ]
  },
  {
   "cell_type": "code",
   "execution_count": 234,
   "id": "70b1eae0",
   "metadata": {},
   "outputs": [
    {
     "data": {
      "text/plain": [
       "ideal(x_{5}, x_{4}, x_{2}, x_{1}^5 - x_{3}^2)"
      ]
     },
     "execution_count": 234,
     "metadata": {},
     "output_type": "execute_result"
    }
   ],
   "source": [
    "Iq1=ideal(R, q1)"
   ]
  },
  {
   "cell_type": "code",
   "execution_count": 235,
   "id": "608b9202",
   "metadata": {},
   "outputs": [
    {
     "data": {
      "text/plain": [
       "1"
      ]
     },
     "execution_count": 235,
     "metadata": {},
     "output_type": "execute_result"
    }
   ],
   "source": [
    "dim(Iq1)"
   ]
  },
  {
   "cell_type": "code",
   "execution_count": 236,
   "id": "82597920",
   "metadata": {},
   "outputs": [
    {
     "data": {
      "text/plain": [
       "true"
      ]
     },
     "execution_count": 236,
     "metadata": {},
     "output_type": "execute_result"
    }
   ],
   "source": [
    "is_prime(Iq1)"
   ]
  },
  {
   "cell_type": "code",
   "execution_count": null,
   "id": "dcd3ed1d",
   "metadata": {},
   "outputs": [],
   "source": []
  },
  {
   "cell_type": "code",
   "execution_count": 237,
   "id": "db869ea3",
   "metadata": {},
   "outputs": [
    {
     "data": {
      "text/plain": [
       "4-element Vector{fmpq_mpoly}:\n",
       " x_{5}\n",
       " x_{3}\n",
       " x_{2}^5 - x_{4}^2\n",
       " x_{1}"
      ]
     },
     "execution_count": 237,
     "metadata": {},
     "output_type": "execute_result"
    }
   ],
   "source": [
    "#2nd irreducible component\n",
    "Iq2=U[2][2]\n",
    "q2=gens(Iq2)"
   ]
  },
  {
   "cell_type": "code",
   "execution_count": 238,
   "id": "2db68908",
   "metadata": {},
   "outputs": [
    {
     "data": {
      "text/plain": [
       "ideal(x_{5}, x_{3}, x_{2}^5 - x_{4}^2, x_{1})"
      ]
     },
     "execution_count": 238,
     "metadata": {},
     "output_type": "execute_result"
    }
   ],
   "source": [
    "Iq2=ideal(R, q2)"
   ]
  },
  {
   "cell_type": "code",
   "execution_count": 239,
   "id": "3a8b0e6c",
   "metadata": {},
   "outputs": [
    {
     "data": {
      "text/plain": [
       "1"
      ]
     },
     "execution_count": 239,
     "metadata": {},
     "output_type": "execute_result"
    }
   ],
   "source": [
    "dim(Iq2)"
   ]
  },
  {
   "cell_type": "code",
   "execution_count": 240,
   "id": "51dabe52",
   "metadata": {},
   "outputs": [
    {
     "data": {
      "text/plain": [
       "true"
      ]
     },
     "execution_count": 240,
     "metadata": {},
     "output_type": "execute_result"
    }
   ],
   "source": [
    "is_prime(Iq2)"
   ]
  },
  {
   "cell_type": "code",
   "execution_count": null,
   "id": "d3554605",
   "metadata": {},
   "outputs": [],
   "source": []
  },
  {
   "cell_type": "code",
   "execution_count": 241,
   "id": "91fc0d30",
   "metadata": {},
   "outputs": [
    {
     "data": {
      "text/plain": [
       "5-element Vector{fmpq_mpoly}:\n",
       " x_{1}\n",
       " x_{2}\n",
       " x_{3}\n",
       " x_{4}\n",
       " x_{5}"
      ]
     },
     "execution_count": 241,
     "metadata": {},
     "output_type": "execute_result"
    }
   ],
   "source": [
    "#3rd irreducible component\n",
    "Iq3=U[3][2]\n",
    "q3=gens(Iq3)"
   ]
  },
  {
   "cell_type": "code",
   "execution_count": 242,
   "id": "6819802a",
   "metadata": {},
   "outputs": [
    {
     "data": {
      "text/plain": [
       "ideal(x_{1}, x_{2}, x_{3}, x_{4}, x_{5})"
      ]
     },
     "execution_count": 242,
     "metadata": {},
     "output_type": "execute_result"
    }
   ],
   "source": [
    "Iq3=ideal(R, q3)"
   ]
  },
  {
   "cell_type": "code",
   "execution_count": 243,
   "id": "be7940e1",
   "metadata": {},
   "outputs": [
    {
     "data": {
      "text/plain": [
       "0"
      ]
     },
     "execution_count": 243,
     "metadata": {},
     "output_type": "execute_result"
    }
   ],
   "source": [
    "dim(Iq3)"
   ]
  },
  {
   "cell_type": "code",
   "execution_count": 244,
   "id": "cb197371",
   "metadata": {},
   "outputs": [
    {
     "data": {
      "text/plain": [
       "true"
      ]
     },
     "execution_count": 244,
     "metadata": {},
     "output_type": "execute_result"
    }
   ],
   "source": [
    "is_prime(Iq3)"
   ]
  },
  {
   "cell_type": "code",
   "execution_count": null,
   "id": "4466d8b3",
   "metadata": {},
   "outputs": [],
   "source": []
  },
  {
   "cell_type": "code",
   "execution_count": 245,
   "id": "c084c94a",
   "metadata": {},
   "outputs": [],
   "source": [
    "# Compute the singular locus of the 1st irreducible component"
   ]
  },
  {
   "cell_type": "code",
   "execution_count": 246,
   "id": "1087371d",
   "metadata": {},
   "outputs": [
    {
     "data": {
      "text/plain": [
       "9-element Vector{fmpq_mpoly}:\n",
       " x_{5}\n",
       " x_{4}\n",
       " x_{2}\n",
       " x_{1}^5 - x_{3}^2\n",
       " 0\n",
       " 0\n",
       " 5*x_{1}^4\n",
       " 0\n",
       " 2*x_{3}"
      ]
     },
     "execution_count": 246,
     "metadata": {},
     "output_type": "execute_result"
    }
   ],
   "source": [
    "q1_sing=SingularLocus(q1,n,R)"
   ]
  },
  {
   "cell_type": "code",
   "execution_count": 247,
   "id": "78b1bde5",
   "metadata": {},
   "outputs": [
    {
     "data": {
      "text/plain": [
       "ideal(x_{5}, x_{4}, x_{2}, x_{1}^5 - x_{3}^2, 0, 0, 5*x_{1}^4, 0, 2*x_{3})"
      ]
     },
     "execution_count": 247,
     "metadata": {},
     "output_type": "execute_result"
    }
   ],
   "source": [
    "Iq1_sing=ideal(R, q1_sing)"
   ]
  },
  {
   "cell_type": "code",
   "execution_count": 248,
   "id": "24cfe36d",
   "metadata": {},
   "outputs": [
    {
     "data": {
      "text/plain": [
       "5-element Vector{fmpq_mpoly}:\n",
       " x_{5}\n",
       " x_{4}\n",
       " x_{3}\n",
       " x_{2}\n",
       " x_{1}^4"
      ]
     },
     "execution_count": 248,
     "metadata": {},
     "output_type": "execute_result"
    }
   ],
   "source": [
    "g1_sing=groebner_basis(Iq1_sing,ordering=lex(gens(R)))"
   ]
  },
  {
   "cell_type": "code",
   "execution_count": 249,
   "id": "b21d9ead",
   "metadata": {},
   "outputs": [
    {
     "data": {
      "text/plain": [
       "ideal(x_{5}, x_{4}, x_{3}, x_{2}, x_{1}^4)"
      ]
     },
     "execution_count": 249,
     "metadata": {},
     "output_type": "execute_result"
    }
   ],
   "source": [
    "Iq1_sing_new=ideal(R, g1_sing)"
   ]
  },
  {
   "cell_type": "code",
   "execution_count": 250,
   "id": "3662075f",
   "metadata": {},
   "outputs": [
    {
     "data": {
      "text/plain": [
       "0"
      ]
     },
     "execution_count": 250,
     "metadata": {},
     "output_type": "execute_result"
    }
   ],
   "source": [
    "dim(Iq1_sing_new)"
   ]
  },
  {
   "cell_type": "code",
   "execution_count": 251,
   "id": "b329b0f7",
   "metadata": {},
   "outputs": [
    {
     "data": {
      "text/plain": [
       "false"
      ]
     },
     "execution_count": 251,
     "metadata": {},
     "output_type": "execute_result"
    }
   ],
   "source": [
    "is_prime(Iq1_sing_new)"
   ]
  },
  {
   "cell_type": "code",
   "execution_count": 252,
   "id": "72927c72",
   "metadata": {},
   "outputs": [
    {
     "data": {
      "text/plain": [
       "1-element Vector{Tuple{MPolyIdeal{fmpq_mpoly}, MPolyIdeal{fmpq_mpoly}}}:\n",
       " (ideal(x_{5}, x_{4}, x_{3}, x_{2}, x_{1}^4), ideal(x_{1}, x_{2}, x_{3}, x_{4}, x_{5}))"
      ]
     },
     "execution_count": 252,
     "metadata": {},
     "output_type": "execute_result"
    }
   ],
   "source": [
    "Uq1_sing_new=primary_decomposition(Iq1_sing_new)"
   ]
  },
  {
   "cell_type": "code",
   "execution_count": 253,
   "id": "69cf66e5",
   "metadata": {},
   "outputs": [
    {
     "data": {
      "text/plain": [
       "5-element Vector{fmpq_mpoly}:\n",
       " x_{1}\n",
       " x_{2}\n",
       " x_{3}\n",
       " x_{4}\n",
       " x_{5}"
      ]
     },
     "execution_count": 253,
     "metadata": {},
     "output_type": "execute_result"
    }
   ],
   "source": [
    "Iq1_sing_new2=Uq1_sing_new[1][2]\n",
    "q1_sing_new2=gens(Iq1_sing_new2)"
   ]
  },
  {
   "cell_type": "code",
   "execution_count": 254,
   "id": "299b3549",
   "metadata": {},
   "outputs": [
    {
     "data": {
      "text/plain": [
       "ideal(x_{1}, x_{2}, x_{3}, x_{4}, x_{5})"
      ]
     },
     "execution_count": 254,
     "metadata": {},
     "output_type": "execute_result"
    }
   ],
   "source": [
    "Iq1_sing_new3=ideal(R, q1_sing_new2)"
   ]
  },
  {
   "cell_type": "code",
   "execution_count": 255,
   "id": "c29afd2a",
   "metadata": {},
   "outputs": [
    {
     "data": {
      "text/plain": [
       "0"
      ]
     },
     "execution_count": 255,
     "metadata": {},
     "output_type": "execute_result"
    }
   ],
   "source": [
    "dim(Iq1_sing_new3)"
   ]
  },
  {
   "cell_type": "code",
   "execution_count": 256,
   "id": "66509a8a",
   "metadata": {},
   "outputs": [
    {
     "data": {
      "text/plain": [
       "true"
      ]
     },
     "execution_count": 256,
     "metadata": {},
     "output_type": "execute_result"
    }
   ],
   "source": [
    "is_prime(Iq1_sing_new3)"
   ]
  },
  {
   "cell_type": "code",
   "execution_count": null,
   "id": "108066a7",
   "metadata": {},
   "outputs": [],
   "source": []
  }
 ],
 "metadata": {
  "kernelspec": {
   "display_name": "Julia 1.7.1",
   "language": "julia",
   "name": "julia-1.7"
  },
  "language_info": {
   "file_extension": ".jl",
   "mimetype": "application/julia",
   "name": "julia",
   "version": "1.7.1"
  }
 },
 "nbformat": 4,
 "nbformat_minor": 5
}
