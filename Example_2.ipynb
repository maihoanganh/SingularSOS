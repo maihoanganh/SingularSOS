{
 "cells": [
  {
   "cell_type": "code",
   "execution_count": 24,
   "id": "f0f9ce82",
   "metadata": {},
   "outputs": [],
   "source": [
    "# Notebook to do some computation in Example 2\n",
    "# from the paper ``Sums of squares representations on singular loci'' \n",
    "# by Ngoc Hoang Anh Mai, Victor Magron, and Bernard Mourrain"
   ]
  },
  {
   "cell_type": "code",
   "execution_count": 25,
   "id": "545da877",
   "metadata": {},
   "outputs": [
    {
     "data": {
      "text/plain": [
       "JacobianMatrix (generic function with 1 method)"
      ]
     },
     "execution_count": 25,
     "metadata": {},
     "output_type": "execute_result"
    }
   ],
   "source": [
    "function JacobianMatrix(h,n)\n",
    "    l=length(h)\n",
    "    J=Matrix{fmpq_mpoly}(undef,n,l)\n",
    "    for j=1:l\n",
    "        for i in 1:n\n",
    "            J[i,j]=derivative(h[j],i)\n",
    "        end\n",
    "    end\n",
    "    return J\n",
    "end"
   ]
  },
  {
   "cell_type": "code",
   "execution_count": 26,
   "id": "9c9e498b",
   "metadata": {},
   "outputs": [
    {
     "data": {
      "text/plain": [
       "determinant (generic function with 1 method)"
      ]
     },
     "execution_count": 26,
     "metadata": {},
     "output_type": "execute_result"
    }
   ],
   "source": [
    "function determinant(A) \n",
    "    nrow,ncol=size(A); \n",
    "    x=0\n",
    "    if size(A)==(1,1) \n",
    "        x=A[1,1]\n",
    "    elseif size(A)==(2,2)\n",
    "        x=A[1,1]*A[2,2]-A[1,2]*A[2,1]\n",
    "    else \n",
    "        x=0\n",
    "        for i=1:ncol \n",
    "            x=x+((-1)^(1+i)*A[1,i]*determinant(A[2:nrow,setdiff(1:ncol,i)]))\n",
    "        end \n",
    "    end  \n",
    "\n",
    "    return x\n",
    "end"
   ]
  },
  {
   "cell_type": "code",
   "execution_count": 27,
   "id": "4168f21a",
   "metadata": {},
   "outputs": [
    {
     "data": {
      "text/plain": [
       "SingularLocus (generic function with 1 method)"
      ]
     },
     "execution_count": 27,
     "metadata": {},
     "output_type": "execute_result"
    }
   ],
   "source": [
    "using Combinatorics\n",
    "\n",
    "function SingularLocus(h,n,R)\n",
    "    r=n-dim(ideal(R, h))\n",
    "    l=length(h)\n",
    "    T1=collect(combinations(1:n,r))\n",
    "    T2=collect(combinations(1:l,r))\n",
    "    lT1=length(T1)\n",
    "    lT2=length(T2)\n",
    "    J=JacobianMatrix(h,n)\n",
    "    q=Vector{fmpq_mpoly}(undef,l+lT1*lT2)\n",
    "    q[1:l]=h\n",
    "    t=1\n",
    "    for j=1:lT1\n",
    "        for i=1:lT2\n",
    "            q[l+t]=determinant(J[T1[j],T2[i]])\n",
    "            t+=1\n",
    "        end\n",
    "    end\n",
    "    return q\n",
    "end"
   ]
  },
  {
   "cell_type": "code",
   "execution_count": 28,
   "id": "fad30afe",
   "metadata": {},
   "outputs": [
    {
     "data": {
      "text/plain": [
       "3-element Vector{fmpq_mpoly}:\n",
       " x_{1}^3 - x_{4}^2\n",
       " x_{2}^3 - 3*x_{2}^2*x_{3} + 3*x_{2}*x_{3}^2 - x_{3}^3 - x_{5}^2\n",
       " x_{1}*x_{2} - x_{1}*x_{3}"
      ]
     },
     "execution_count": 28,
     "metadata": {},
     "output_type": "execute_result"
    }
   ],
   "source": [
    "using Oscar\n",
    "\n",
    "n=5\n",
    "\n",
    "R, x = PolynomialRing(QQ, \"x\" => (1:n))\n",
    "\n",
    "h=[x[1]^3-x[4]^2;(x[2]-x[3])^3-x[5]^2;x[1]*(x[2]-x[3])]# vertor of polynomials defining variety V(h)"
   ]
  },
  {
   "cell_type": "code",
   "execution_count": 30,
   "id": "f00c5426",
   "metadata": {},
   "outputs": [
    {
     "data": {
      "text/plain": [
       "2-element Vector{Tuple{MPolyIdeal{fmpq_mpoly}, MPolyIdeal{fmpq_mpoly}}}:\n",
       " (ideal(x_{5}^2, x_{2} - x_{3}, x_{1}^3 - x_{4}^2), ideal(x_{5}, x_{2} - x_{3}, x_{1}^3 - x_{4}^2))\n",
       " (ideal(x_{4}^2, x_{2}^3 - 3*x_{2}^2*x_{3} + 3*x_{2}*x_{3}^2 - x_{3}^3 - x_{5}^2, x_{1}), ideal(x_{4}, x_{2}^3 - 3*x_{2}^2*x_{3} + 3*x_{2}*x_{3}^2 - x_{3}^3 - x_{5}^2, x_{1}))"
      ]
     },
     "execution_count": 30,
     "metadata": {},
     "output_type": "execute_result"
    }
   ],
   "source": [
    "U = primary_decomposition(ideal(R, h))# irreducible decomposition"
   ]
  },
  {
   "cell_type": "code",
   "execution_count": 31,
   "id": "486317d5",
   "metadata": {},
   "outputs": [
    {
     "data": {
      "text/plain": [
       "3-element Vector{fmpq_mpoly}:\n",
       " x_{5}\n",
       " x_{2} - x_{3}\n",
       " x_{1}^3 - x_{4}^2"
      ]
     },
     "execution_count": 31,
     "metadata": {},
     "output_type": "execute_result"
    }
   ],
   "source": [
    "#1st irreducible component\n",
    "I1=U[1][2]# ideal\n",
    "h1=gens(I1)# list of generators of ideal I"
   ]
  },
  {
   "cell_type": "code",
   "execution_count": 32,
   "id": "e31bebc4",
   "metadata": {},
   "outputs": [
    {
     "data": {
      "text/plain": [
       "5×3 Matrix{fmpq_mpoly}:\n",
       " 0  0   3*x_{1}^2\n",
       " 0  1   0\n",
       " 0  -1  0\n",
       " 0  0   -2*x_{4}\n",
       " 1  0   0"
      ]
     },
     "execution_count": 32,
     "metadata": {},
     "output_type": "execute_result"
    }
   ],
   "source": [
    "J1=JacobianMatrix(h1,n)"
   ]
  },
  {
   "cell_type": "code",
   "execution_count": 33,
   "id": "b777b12b",
   "metadata": {},
   "outputs": [
    {
     "data": {
      "text/plain": [
       "13-element Vector{fmpq_mpoly}:\n",
       " x_{5}\n",
       " x_{2} - x_{3}\n",
       " x_{1}^3 - x_{4}^2\n",
       " 0\n",
       " 0\n",
       " -3*x_{1}^2\n",
       " 0\n",
       " 3*x_{1}^2\n",
       " 0\n",
       " 0\n",
       " 0\n",
       " -2*x_{4}\n",
       " 2*x_{4}"
      ]
     },
     "execution_count": 33,
     "metadata": {},
     "output_type": "execute_result"
    }
   ],
   "source": [
    "h1_sing=SingularLocus(h1,n,R)"
   ]
  },
  {
   "cell_type": "code",
   "execution_count": 34,
   "id": "90920c1e",
   "metadata": {},
   "outputs": [
    {
     "data": {
      "text/plain": [
       "ideal(x_{5}, x_{2} - x_{3}, x_{1}^3 - x_{4}^2, 0, 0, -3*x_{1}^2, 0, 3*x_{1}^2, 0, 0, 0, -2*x_{4}, 2*x_{4})"
      ]
     },
     "execution_count": 34,
     "metadata": {},
     "output_type": "execute_result"
    }
   ],
   "source": [
    "I1_sing=ideal(R, h1_sing)"
   ]
  },
  {
   "cell_type": "code",
   "execution_count": 35,
   "id": "e39c0513",
   "metadata": {},
   "outputs": [
    {
     "data": {
      "text/plain": [
       "4-element Vector{fmpq_mpoly}:\n",
       " x_{5}\n",
       " x_{4}\n",
       " x_{2} - x_{3}\n",
       " x_{1}^2"
      ]
     },
     "execution_count": 35,
     "metadata": {},
     "output_type": "execute_result"
    }
   ],
   "source": [
    "g1_sing=groebner_basis(I1_sing,ordering=lex(gens(R)))"
   ]
  },
  {
   "cell_type": "code",
   "execution_count": 36,
   "id": "c085e43c",
   "metadata": {},
   "outputs": [
    {
     "data": {
      "text/plain": [
       "ideal(x_{5}, x_{4}, x_{2} - x_{3}, x_{1}^2)"
      ]
     },
     "execution_count": 36,
     "metadata": {},
     "output_type": "execute_result"
    }
   ],
   "source": [
    "I1_sing_new=ideal(R, g1_sing)"
   ]
  },
  {
   "cell_type": "code",
   "execution_count": 37,
   "id": "bec30bf1",
   "metadata": {},
   "outputs": [
    {
     "data": {
      "text/plain": [
       "1"
      ]
     },
     "execution_count": 37,
     "metadata": {},
     "output_type": "execute_result"
    }
   ],
   "source": [
    "dim(I1_sing_new)"
   ]
  },
  {
   "cell_type": "code",
   "execution_count": 38,
   "id": "d50f3eba",
   "metadata": {},
   "outputs": [
    {
     "data": {
      "text/plain": [
       "false"
      ]
     },
     "execution_count": 38,
     "metadata": {},
     "output_type": "execute_result"
    }
   ],
   "source": [
    "is_prime(I1_sing_new)"
   ]
  },
  {
   "cell_type": "code",
   "execution_count": 39,
   "id": "326cac32",
   "metadata": {},
   "outputs": [
    {
     "data": {
      "text/plain": [
       "1-element Vector{Tuple{MPolyIdeal{fmpq_mpoly}, MPolyIdeal{fmpq_mpoly}}}:\n",
       " (ideal(x_{1}^2, x_{5}, x_{4}, x_{2} - x_{3}), ideal(x_{1}, x_{5}, x_{4}, x_{2} - x_{3}))"
      ]
     },
     "execution_count": 39,
     "metadata": {},
     "output_type": "execute_result"
    }
   ],
   "source": [
    "U1=primary_decomposition(I1_sing_new)"
   ]
  },
  {
   "cell_type": "code",
   "execution_count": null,
   "id": "858d29ea",
   "metadata": {},
   "outputs": [],
   "source": []
  },
  {
   "cell_type": "code",
   "execution_count": 40,
   "id": "87169bbe",
   "metadata": {},
   "outputs": [
    {
     "data": {
      "text/plain": [
       "3-element Vector{fmpq_mpoly}:\n",
       " x_{4}\n",
       " x_{2}^3 - 3*x_{2}^2*x_{3} + 3*x_{2}*x_{3}^2 - x_{3}^3 - x_{5}^2\n",
       " x_{1}"
      ]
     },
     "execution_count": 40,
     "metadata": {},
     "output_type": "execute_result"
    }
   ],
   "source": [
    "#1st irreducible component\n",
    "I2=U[2][2]# ideal\n",
    "h2=gens(I2)# list of generators of ideal I"
   ]
  },
  {
   "cell_type": "code",
   "execution_count": 41,
   "id": "3057b215",
   "metadata": {},
   "outputs": [
    {
     "data": {
      "text/plain": [
       "5×3 Matrix{fmpq_mpoly}:\n",
       " 0  0                                       1\n",
       " 0  3*x_{2}^2 - 6*x_{2}*x_{3} + 3*x_{3}^2   0\n",
       " 0  -3*x_{2}^2 + 6*x_{2}*x_{3} - 3*x_{3}^2  0\n",
       " 1  0                                       0\n",
       " 0  -2*x_{5}                                0"
      ]
     },
     "execution_count": 41,
     "metadata": {},
     "output_type": "execute_result"
    }
   ],
   "source": [
    "J2=JacobianMatrix(h2,n)"
   ]
  },
  {
   "cell_type": "code",
   "execution_count": 42,
   "id": "450d53be",
   "metadata": {},
   "outputs": [
    {
     "data": {
      "text/plain": [
       "13-element Vector{fmpq_mpoly}:\n",
       " x_{4}\n",
       " x_{2}^3 - 3*x_{2}^2*x_{3} + 3*x_{2}*x_{3}^2 - x_{3}^3 - x_{5}^2\n",
       " x_{1}\n",
       " 0\n",
       " -3*x_{2}^2 + 6*x_{2}*x_{3} - 3*x_{3}^2\n",
       " 0\n",
       " 3*x_{2}^2 - 6*x_{2}*x_{3} + 3*x_{3}^2\n",
       " 0\n",
       " -2*x_{5}\n",
       " 0\n",
       " 0\n",
       " 0\n",
       " 0"
      ]
     },
     "execution_count": 42,
     "metadata": {},
     "output_type": "execute_result"
    }
   ],
   "source": [
    "h2_sing=SingularLocus(h2,n,R)"
   ]
  },
  {
   "cell_type": "code",
   "execution_count": 43,
   "id": "453c09f3",
   "metadata": {},
   "outputs": [
    {
     "data": {
      "text/plain": [
       "ideal(x_{4}, x_{2}^3 - 3*x_{2}^2*x_{3} + 3*x_{2}*x_{3}^2 - x_{3}^3 - x_{5}^2, x_{1}, 0, -3*x_{2}^2 + 6*x_{2}*x_{3} - 3*x_{3}^2, 0, 3*x_{2}^2 - 6*x_{2}*x_{3} + 3*x_{3}^2, 0, -2*x_{5}, 0, 0, 0, 0)"
      ]
     },
     "execution_count": 43,
     "metadata": {},
     "output_type": "execute_result"
    }
   ],
   "source": [
    "I2_sing=ideal(R, h2_sing)"
   ]
  },
  {
   "cell_type": "code",
   "execution_count": 44,
   "id": "f1af7bc0",
   "metadata": {},
   "outputs": [
    {
     "data": {
      "text/plain": [
       "4-element Vector{fmpq_mpoly}:\n",
       " x_{5}\n",
       " x_{4}\n",
       " x_{2}^2 - 2*x_{2}*x_{3} + x_{3}^2\n",
       " x_{1}"
      ]
     },
     "execution_count": 44,
     "metadata": {},
     "output_type": "execute_result"
    }
   ],
   "source": [
    "g2_sing=groebner_basis(I2_sing,ordering=lex(gens(R)))"
   ]
  },
  {
   "cell_type": "code",
   "execution_count": 45,
   "id": "91706202",
   "metadata": {},
   "outputs": [
    {
     "data": {
      "text/plain": [
       "ideal(x_{5}, x_{4}, x_{2}^2 - 2*x_{2}*x_{3} + x_{3}^2, x_{1})"
      ]
     },
     "execution_count": 45,
     "metadata": {},
     "output_type": "execute_result"
    }
   ],
   "source": [
    "I2_sing_new=ideal(R, g2_sing)"
   ]
  },
  {
   "cell_type": "code",
   "execution_count": 46,
   "id": "0eb43fa7",
   "metadata": {},
   "outputs": [
    {
     "data": {
      "text/plain": [
       "1"
      ]
     },
     "execution_count": 46,
     "metadata": {},
     "output_type": "execute_result"
    }
   ],
   "source": [
    "dim(I2_sing_new)"
   ]
  },
  {
   "cell_type": "code",
   "execution_count": 47,
   "id": "50f59b19",
   "metadata": {},
   "outputs": [
    {
     "data": {
      "text/plain": [
       "false"
      ]
     },
     "execution_count": 47,
     "metadata": {},
     "output_type": "execute_result"
    }
   ],
   "source": [
    "is_prime(I2_sing_new)"
   ]
  },
  {
   "cell_type": "code",
   "execution_count": 48,
   "id": "c674be40",
   "metadata": {},
   "outputs": [
    {
     "data": {
      "text/plain": [
       "1-element Vector{Tuple{MPolyIdeal{fmpq_mpoly}, MPolyIdeal{fmpq_mpoly}}}:\n",
       " (ideal(x_{2}^2 - 2*x_{2}*x_{3} + x_{3}^2, x_{5}, x_{4}, x_{1}), ideal(x_{2} - x_{3}, x_{5}, x_{4}, x_{1}))"
      ]
     },
     "execution_count": 48,
     "metadata": {},
     "output_type": "execute_result"
    }
   ],
   "source": [
    "U2=primary_decomposition(I2_sing_new)"
   ]
  },
  {
   "cell_type": "code",
   "execution_count": null,
   "id": "2af963d2",
   "metadata": {},
   "outputs": [],
   "source": []
  }
 ],
 "metadata": {
  "kernelspec": {
   "display_name": "Julia 1.7.1",
   "language": "julia",
   "name": "julia-1.7"
  },
  "language_info": {
   "file_extension": ".jl",
   "mimetype": "application/julia",
   "name": "julia",
   "version": "1.7.1"
  }
 },
 "nbformat": 4,
 "nbformat_minor": 5
}
